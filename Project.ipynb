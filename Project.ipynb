{
 "cells": [
  {
   "cell_type": "markdown",
   "id": "5461e74d-10df-4001-8047-c87b8833fdaf",
   "metadata": {},
   "source": [
    "## Purpose of the API"
   ]
  },
  {
   "cell_type": "markdown",
   "id": "e1c49c8b-07dc-4f9c-be20-b2d2a5ad958d",
   "metadata": {},
   "source": [
    "- The purpose of this API is that help people to find books with rating, author, title and other infos. Also the Api can be used for publishing your own book information without any problem"
   ]
  },
  {
   "cell_type": "code",
   "execution_count": 1,
   "id": "6137c3ee-380c-4982-85b2-16d00ee37f07",
   "metadata": {},
   "outputs": [],
   "source": [
    "## The data set is from Kaggle.com\n",
    "## https://www.kaggle.com/datasets/jealousleopard/goodreadsbooks"
   ]
  },
  {
   "cell_type": "markdown",
   "id": "6e1b0ea9-edbc-46d6-bbf3-fee5a01d5e7e",
   "metadata": {},
   "source": [
    "## EDA and data cleaning "
   ]
  },
  {
   "cell_type": "code",
   "execution_count": 2,
   "id": "bd154fd9-15b9-4fc5-a75c-2170fec4d560",
   "metadata": {},
   "outputs": [],
   "source": [
    "import pandas as pd"
   ]
  },
  {
   "cell_type": "markdown",
   "id": "19519dc0-abca-48f1-8f66-e1e767fcc7f8",
   "metadata": {},
   "source": [
    "- We are gonna need pandas to read the csv"
   ]
  },
  {
   "cell_type": "code",
   "execution_count": 6,
   "id": "0247559f-dc9c-46bb-9854-6f135c7a30ca",
   "metadata": {},
   "outputs": [],
   "source": [
    "file_path = r\"C:\\Users\\purev\\Desktop\\Api project\\books_error.csv\""
   ]
  },
  {
   "cell_type": "markdown",
   "id": "b1addf1f-c3d1-4290-9159-567d74528aac",
   "metadata": {},
   "source": [
    "- I'm using this method to import data set fix the data format because the data set had some issues loading "
   ]
  },
  {
   "cell_type": "code",
   "execution_count": 7,
   "id": "9e27f157-df48-455d-bd07-447be6ec6c1b",
   "metadata": {},
   "outputs": [],
   "source": [
    "## ParserError: Error tokenizing data. C error: Expected 12 fields in line 3350, saw 13"
   ]
  },
  {
   "cell_type": "code",
   "execution_count": 8,
   "id": "c76b105f-f700-4f30-be95-2f95b10b4f70",
   "metadata": {},
   "outputs": [
    {
     "data": {
      "text/plain": [
       "(   bookID                                              title  \\\n",
       " 0       1  Harry Potter and the Half-Blood Prince (Harry ...   \n",
       " 1       2  Harry Potter and the Order of the Phoenix (Har...   \n",
       " 2       4  Harry Potter and the Chamber of Secrets (Harry...   \n",
       " 3       5  Harry Potter and the Prisoner of Azkaban (Harr...   \n",
       " 4       8  Harry Potter Boxed Set  Books 1-5 (Harry Potte...   \n",
       " \n",
       "                       authors  average_rating        isbn         isbn13  \\\n",
       " 0  J.K. Rowling/Mary GrandPré            4.57  0439785960  9780439785969   \n",
       " 1  J.K. Rowling/Mary GrandPré            4.49  0439358078  9780439358071   \n",
       " 2                J.K. Rowling            4.42  0439554896  9780439554893   \n",
       " 3  J.K. Rowling/Mary GrandPré            4.56  043965548X  9780439655484   \n",
       " 4  J.K. Rowling/Mary GrandPré            4.78  0439682584  9780439682589   \n",
       " \n",
       "   language_code    num_pages  ratings_count  text_reviews_count  \\\n",
       " 0           eng          652        2095690               27591   \n",
       " 1           eng          870        2153167               29221   \n",
       " 2           eng          352           6333                 244   \n",
       " 3           eng          435        2339585               36325   \n",
       " 4           eng         2690          41428                 164   \n",
       " \n",
       "   publication_date        publisher  \n",
       " 0        9/16/2006  Scholastic Inc.  \n",
       " 1         9/1/2004  Scholastic Inc.  \n",
       " 2        11/1/2003       Scholastic  \n",
       " 3         5/1/2004  Scholastic Inc.  \n",
       " 4        9/13/2004       Scholastic  ,\n",
       " Index(['bookID', 'title', 'authors', 'average_rating', 'isbn', 'isbn13',\n",
       "        'language_code', '  num_pages', 'ratings_count', 'text_reviews_count',\n",
       "        'publication_date', 'publisher'],\n",
       "       dtype='object'))"
      ]
     },
     "execution_count": 8,
     "metadata": {},
     "output_type": "execute_result"
    }
   ],
   "source": [
    "# We import our CSV\n",
    "import csv\n",
    "\n",
    "# So we open the file and check the first few lines manually in the range of 5\n",
    "with open(file_path, \"r\", encoding=\"utf-8\") as file:\n",
    "    sample_lines = [next(file) for _ in range(5)]\n",
    "\n",
    "# Attempt to detect delimiter because accourding to Google it is usually issue with delimiter and too many characters in one row\n",
    "dialect = csv.Sniffer().sniff(\"\\n\".join(sample_lines))\n",
    "delimiter = dialect.delimiter\n",
    "\n",
    "# Load the CSV with detected delimiter\n",
    "df_fixed = pd.read_csv(file_path, delimiter=delimiter, on_bad_lines=\"skip\")\n",
    "\n",
    "# Show basic info about the dataset\n",
    "df_fixed.head(), df_fixed.columns"
   ]
  },
  {
   "cell_type": "code",
   "execution_count": 16,
   "id": "e832c2ac-6bb7-4a5a-b89f-1b2a6c5be738",
   "metadata": {},
   "outputs": [],
   "source": [
    "df_2 = df_fixed.drop(columns=['  num_pages','ratings_count','text_reviews_count','isbn','isbn13','language_code'])"
   ]
  },
  {
   "cell_type": "code",
   "execution_count": 17,
   "id": "974579f4-1fd0-4fc6-96ea-a0dd3ac78795",
   "metadata": {},
   "outputs": [
    {
     "data": {
      "text/plain": [
       "bookID              0\n",
       "title               0\n",
       "authors             0\n",
       "average_rating      0\n",
       "publication_date    0\n",
       "publisher           0\n",
       "dtype: int64"
      ]
     },
     "execution_count": 17,
     "metadata": {},
     "output_type": "execute_result"
    }
   ],
   "source": [
    "df_2.isnull().sum()"
   ]
  },
  {
   "cell_type": "markdown",
   "id": "2efd451f-863b-46b8-9950-e8e85e4fc30c",
   "metadata": {},
   "source": [
    "- so our data set is clean and ready to go "
   ]
  },
  {
   "cell_type": "code",
   "execution_count": 18,
   "id": "653ff903-16d5-42fa-9087-333d4509ef47",
   "metadata": {},
   "outputs": [],
   "source": [
    "df_2.to_csv('books.csv', index=False)"
   ]
  },
  {
   "cell_type": "markdown",
   "id": "10ee787c-27ba-49fa-beac-87b1f00daba4",
   "metadata": {},
   "source": [
    "-We export our data for easier use\n"
   ]
  }
 ],
 "metadata": {
  "kernelspec": {
   "display_name": "Python 3 (ipykernel)",
   "language": "python",
   "name": "python3"
  },
  "language_info": {
   "codemirror_mode": {
    "name": "ipython",
    "version": 3
   },
   "file_extension": ".py",
   "mimetype": "text/x-python",
   "name": "python",
   "nbconvert_exporter": "python",
   "pygments_lexer": "ipython3",
   "version": "3.12.7"
  }
 },
 "nbformat": 4,
 "nbformat_minor": 5
}
